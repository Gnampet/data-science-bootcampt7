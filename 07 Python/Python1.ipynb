{
  "nbformat": 4,
  "nbformat_minor": 0,
  "metadata": {
    "colab": {
      "provenance": [],
      "toc_visible": true,
      "authorship_tag": "ABX9TyMrnXeWawBbQ4ev1dPzJFwN",
      "include_colab_link": true
    },
    "kernelspec": {
      "name": "python3",
      "display_name": "Python 3"
    },
    "language_info": {
      "name": "python"
    }
  },
  "cells": [
    {
      "cell_type": "markdown",
      "metadata": {
        "id": "view-in-github",
        "colab_type": "text"
      },
      "source": [
        "<a href=\"https://colab.research.google.com/github/Gnampet/data-science-bootcampt7/blob/main/HW_Python1.ipynb\" target=\"_parent\"><img src=\"https://colab.research.google.com/assets/colab-badge.svg\" alt=\"Open In Colab\"/></a>"
      ]
    },
    {
      "cell_type": "markdown",
      "source": [
        "# HW01 - Chatbot to order pizza\n",
        "\n"
      ],
      "metadata": {
        "id": "LH6X3n2xuQ0p"
      }
    },
    {
      "cell_type": "code",
      "source": [
        "def pizza_chatbot():\n",
        "  orders = [ ]\n",
        "  while True:\n",
        "    order1 = input( \"What kind of pizza would you like? \")\n",
        "    order2 = input( \"Would you like to add more topping?\" )\n",
        "    order3 = input( \"What size?\" )\n",
        "    order4 = input( \"Would you like to add any side dish?\" )\n",
        "    order = input( \"Anything else? (yes/no)\" )\n",
        "    orders.extend([order1, order2, order3, order4])\n",
        "    if order == \"no\":\n",
        "        return orders"
      ],
      "metadata": {
        "id": "mEELRjVhXhp4"
      },
      "execution_count": null,
      "outputs": []
    },
    {
      "cell_type": "code",
      "source": [
        "pizza_chatbot()"
      ],
      "metadata": {
        "colab": {
          "base_uri": "https://localhost:8080/"
        },
        "id": "T7fs31oZiY6g",
        "outputId": "b334991f-50a8-4fdb-c30a-0d98aa3fe47b"
      },
      "execution_count": null,
      "outputs": [
        {
          "name": "stdout",
          "output_type": "stream",
          "text": [
            "What kind of pizza would you like? Cheese\n",
            "Would you like to add more topping?Cheese\n",
            "What size?Small\n",
            "Would you like to add any side dish?Salad\n",
            "Type 'No' to end the order.\n",
            "Anything else?No\n"
          ]
        },
        {
          "output_type": "execute_result",
          "data": {
            "text/plain": [
              "['Cheese', 'Cheese', 'Small', 'Salad']"
            ]
          },
          "metadata": {},
          "execution_count": 30
        }
      ]
    },
    {
      "cell_type": "markdown",
      "source": [
        "#HW02 - pao ying chub"
      ],
      "metadata": {
        "id": "esnSYICzuYEY"
      }
    },
    {
      "cell_type": "code",
      "source": [
        "from random import sample"
      ],
      "metadata": {
        "id": "f3bn7fm18Udn"
      },
      "execution_count": null,
      "outputs": []
    },
    {
      "cell_type": "code",
      "source": [
        "import random\n",
        "def test_game():\n",
        "    while True:\n",
        "        print(\"Let's paly!!, Type 'exit' if you want to end the game.\")\n",
        "        user= input(\"Coose one (rock, paper, scissor): \")\n",
        "        options = [\"rock\", \"paper\", \"scissor\"]\n",
        "        com = random.choice(options)\n",
        "\n",
        "\n",
        "        if user == com:\n",
        "            print(\"Tie!\")\n",
        "        elif user == \"rock\":\n",
        "            if com == \"scissors\":\n",
        "                print(\"You win!\")\n",
        "            else:\n",
        "                print(\"You lose.\")\n",
        "        elif user == \"paper\":\n",
        "            if com == \"rock\":\n",
        "                print(\"You win!\")\n",
        "            else:\n",
        "                print(\"You lose.\")\n",
        "        elif user == \"scissors\":\n",
        "            if com == \"paper\":\n",
        "                print(\"You win!\")\n",
        "            else:\n",
        "                print(\"You lose.\")\n",
        "\n",
        "        if user == \"exit\":\n",
        "            print(\"See you next time, Bye!!\")\n",
        "            break\n",
        "\n"
      ],
      "metadata": {
        "id": "L-B072CyiNoC"
      },
      "execution_count": null,
      "outputs": []
    },
    {
      "cell_type": "code",
      "source": [
        "test_game()"
      ],
      "metadata": {
        "id": "WMnMv-_VlEZ3",
        "colab": {
          "base_uri": "https://localhost:8080/"
        },
        "outputId": "d67cac2b-ff29-45bb-ca94-3ad043a89fa6"
      },
      "execution_count": null,
      "outputs": [
        {
          "output_type": "stream",
          "name": "stdout",
          "text": [
            "Let's paly!!, Type 'exit' if you want to end the game.\n",
            "Coose one (rock, paper, scissor): rock\n",
            "Tie!\n",
            "Let's paly!!, Type 'exit' if you want to end the game.\n",
            "Coose one (rock, paper, scissor): rock\n",
            "You lose.\n",
            "Let's paly!!, Type 'exit' if you want to end the game.\n",
            "Coose one (rock, paper, scissor): rock\n",
            "You lose.\n",
            "Let's paly!!, Type 'exit' if you want to end the game.\n",
            "Coose one (rock, paper, scissor): exit\n",
            "See you next time, Bye!!\n"
          ]
        }
      ]
    },
    {
      "cell_type": "markdown",
      "source": [
        "# HW03 - create new ATM class\n",
        "\n",
        "5 method"
      ],
      "metadata": {
        "id": "Y2Vms5rXyh7d"
      }
    },
    {
      "cell_type": "code",
      "source": [
        "# Example\n",
        "class ATM:\n",
        "  def __init__(self, name, bank, account_number:int, balance):\n",
        "    self.name = name\n",
        "    self.bank = bank\n",
        "    self.balance = balance\n",
        "    self.account_number = account_number\n",
        "\n",
        "  def detail(self):\n",
        "    print(f\"Account holder: {self.name}\")\n",
        "    print(f\"Account number: {self.account_number}\")\n",
        "    print(f\"Balance:{self.balance}\")\n",
        "\n",
        "  def deposit(self, amount): # first method\n",
        "    self.balance +=amount\n",
        "    print(\"Deposit:\", amount)\n",
        "    print(\"Current balance:\", self.balance)\n",
        "\n",
        "  def withdraw(self, amount):\n",
        "    if amount > self.balance:\n",
        "        print(\"Sorry, This ATM cannot process your amount\")\n",
        "        print(\"This account does not have enough balance. \")\n",
        "    else:\n",
        "        self.balance -=amount\n",
        "        print(f\"Withfrawal succesful!\")\n",
        "        print(\"Current balance:\", self.balance)\n",
        "\n",
        "  def transaction(self,amount,trans_account: int):\n",
        "    self.balance -=amount\n",
        "    print(f\"Transaction {amount} baht to {trans_account}.\")\n",
        "    print(f\"{self.balance} remaining on your account\")\n",
        "\n"
      ],
      "metadata": {
        "id": "DlaCnfHeypJL"
      },
      "execution_count": null,
      "outputs": []
    },
    {
      "cell_type": "code",
      "source": [
        "kbank = ATM(\"pp\",\"kbank\",12546,10000)\n",
        "kbank.deposit(1000)\n",
        "kbank.withdraw(1000000)\n",
        "kbank.transaction(100,123456)\n",
        "kbank.detail()"
      ],
      "metadata": {
        "colab": {
          "base_uri": "https://localhost:8080/"
        },
        "id": "6he_KrianSr1",
        "outputId": "0e60db4b-030e-4700-b544-26604b0e689a"
      },
      "execution_count": null,
      "outputs": [
        {
          "output_type": "stream",
          "name": "stdout",
          "text": [
            "Deposit: 1000\n",
            "Current balance: 11000\n",
            "Sorry, This ATM cannot process your amount\n",
            "This account does not have enough balance. \n",
            "Transaction 100 baht to 123456.\n",
            "10900 remaining on your account\n",
            "Account holder: pp\n",
            "Account number: 12546\n",
            "Balance:10900\n"
          ]
        }
      ]
    }
  ]
}
